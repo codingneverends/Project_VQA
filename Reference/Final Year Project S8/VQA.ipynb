{
  "nbformat": 4,
  "nbformat_minor": 0,
  "metadata": {
    "colab": {
      "name": "VQA.ipynb",
      "provenance": []
    },
    "kernelspec": {
      "name": "python3",
      "display_name": "Python 3"
    },
    "language_info": {
      "name": "python"
    }
  },
  "cells": [
    {
      "cell_type": "code",
      "execution_count": null,
      "metadata": {
        "colab": {
          "base_uri": "https://localhost:8080/"
        },
        "id": "p0QrhiYEacXV",
        "outputId": "34c7d87c-33a3-4724-cd17-22c305908d7e"
      },
      "outputs": [
        {
          "output_type": "stream",
          "name": "stdout",
          "text": [
            "Mounted at /content/drive\n"
          ]
        }
      ],
      "source": [
        "from google.colab import drive\n",
        "drive.mount('/content/drive', force_remount=True)\n",
        "import os\n",
        "os.chdir('/content/drive/MyDrive/Final Year Project')"
      ]
    },
    {
      "cell_type": "code",
      "source": [
        "import keras\n",
        "from keras.models import Sequential, Model\n",
        "from keras.layers import Dense, Conv2D, MaxPool2D , Flatten, Input\n",
        "from keras.preprocessing.image import ImageDataGenerator\n",
        "from keras.preprocessing import image\n",
        "from keras.applications.vgg16 import VGG16\n",
        "import numpy as np\n",
        "import csv"
      ],
      "metadata": {
        "id": "ol5aesHBae89"
      },
      "execution_count": null,
      "outputs": []
    },
    {
      "cell_type": "code",
      "source": [
        "new_vgg = np.loadtxt('Image Classifier/vgg_train_data.csv')\n",
        "new_vgg.shape"
      ],
      "metadata": {
        "colab": {
          "base_uri": "https://localhost:8080/"
        },
        "id": "_-JoOEboagxa",
        "outputId": "dc9488e7-05bb-4476-95b3-89d276c920aa"
      },
      "execution_count": null,
      "outputs": [
        {
          "output_type": "execute_result",
          "data": {
            "text/plain": [
              "(642, 25088)"
            ]
          },
          "metadata": {},
          "execution_count": 3
        }
      ]
    },
    {
      "cell_type": "code",
      "source": [
        "vgg_model = VGG16(include_top=False)"
      ],
      "metadata": {
        "id": "nMPPfQZjBmq7",
        "colab": {
          "base_uri": "https://localhost:8080/"
        },
        "outputId": "80286e42-0bbd-47ce-ccf7-72bafe774d0c"
      },
      "execution_count": null,
      "outputs": [
        {
          "output_type": "stream",
          "name": "stdout",
          "text": [
            "Downloading data from https://storage.googleapis.com/tensorflow/keras-applications/vgg16/vgg16_weights_tf_dim_ordering_tf_kernels_notop.h5\n",
            "58892288/58889256 [==============================] - 0s 0us/step\n",
            "58900480/58889256 [==============================] - 0s 0us/step\n"
          ]
        }
      ]
    },
    {
      "cell_type": "code",
      "source": [
        "import json\n",
        "\n",
        "train_data = []\n",
        "test_data = []\n",
        "valid_data = []\n",
        "\n",
        "with open(\"Slake1.0/train.json\", \"r\") as fp:\n",
        "  train_data = json.load(fp)\n",
        "with open(\"Slake1.0/test.json\", \"r\") as fp:\n",
        "  test_data = json.load(fp)\n",
        "with open(\"Slake1.0/validate.json\", \"r\") as fp:\n",
        "  valid_data = json.load(fp)\n",
        "\n",
        "data1 = []\n",
        "\n",
        "for item in train_data:\n",
        "    if item['q_lang'] == 'en' and item['base_type'] == 'vqa':\n",
        "        data1.append(item)\n",
        "\n",
        "train_data = data1\n",
        "\n",
        "\n",
        "data2 = []\n",
        "for item in test_data:\n",
        "    if item['q_lang'] == 'en' and item['base_type'] == 'vqa':\n",
        "        data2.append(item)\n",
        "\n",
        "test_data = data2\n",
        "\n",
        "data3 = []\n",
        "for item in valid_data:\n",
        "    if item['q_lang'] == 'en' and item['base_type'] == 'vqa':\n",
        "        data3.append(item)\n",
        "valid_data = data3"
      ],
      "metadata": {
        "id": "Or8kvZAZaqzK"
      },
      "execution_count": null,
      "outputs": []
    },
    {
      "cell_type": "code",
      "source": [
        "train_questions = []\n",
        "\n",
        "for item in train_data:\n",
        "    train_questions.append(item['question'])"
      ],
      "metadata": {
        "id": "vuQzakGDurpI"
      },
      "execution_count": null,
      "outputs": []
    },
    {
      "cell_type": "code",
      "source": [
        "from keras.preprocessing.text import Tokenizer\n",
        "from keras.preprocessing.sequence import pad_sequences\n",
        "from keras.layers import Embedding\n",
        "\n",
        "t = Tokenizer()\n",
        "t.fit_on_texts(train_questions)\n",
        "vocab_size = len(t.word_index) + 1\n",
        "print(t.word_index)\n",
        "\n",
        "maxlen=16\n",
        "\n",
        "def obtain_padded_questions(questions, maxlen, t):\n",
        "    encoded = t.texts_to_sequences(questions)\n",
        "\n",
        "    padded = pad_sequences(encoded, padding='post', maxlen=maxlen)\n",
        "    padded = np.array(padded)\n",
        "\n",
        "    return padded\n",
        "\n",
        "embeddings_index = dict()\n",
        "\n",
        "f = open('Question Classifier/glove.6B.100d.txt')\n",
        "for line in f:\n",
        "\tvalues = line.split()\n",
        "\tword = values[0]\n",
        "\tcoefs = np.asarray(values[1:], dtype='float32')\n",
        "\tembeddings_index[word] = coefs\n",
        "f.close()\n",
        "\n",
        "print('Loaded %s word vectors.' % len(embeddings_index))\n",
        "\n",
        "# create a weight matrix for words in training docs\n",
        "embedding_matrix = np.zeros((vocab_size, 100))\n",
        "for word, i in t.word_index.items():\n",
        "  embedding_vector = embeddings_index.get(word)\n",
        "  if word.endswith(\"'s\"):\n",
        "    embedding_vector = embeddings_index.get(word[:-2])\n",
        "  if embedding_vector is not None:\n",
        "    embedding_matrix[i] = embedding_vector\n",
        "  else:\n",
        "    print(word)"
      ],
      "metadata": {
        "colab": {
          "base_uri": "https://localhost:8080/"
        },
        "id": "KcYTVYZ_B1ZE",
        "outputId": "ae300724-838c-4481-fac2-f6a37940083c"
      },
      "execution_count": null,
      "outputs": [
        {
          "output_type": "stream",
          "name": "stdout",
          "text": [
            "{'the': 1, 'is': 2, 'this': 3, 'image': 4, 'in': 5, 'what': 6, 'picture': 7, 'does': 8, 'of': 9, 'organ': 10, 'which': 11, 'contain': 12, 'are': 13, 'to': 14, 'lung': 15, 'part': 16, 'body': 17, 'where': 18, 'liver': 19, 'modality': 20, 'belong': 21, 'or': 22, 'plane': 23, 'used': 24, 'how': 25, 'on': 26, 'take': 27, 'heart': 28, 'many': 29, 'located': 30, 'there': 31, 'largest': 32, 'left': 33, 'a': 34, 'abnormal': 35, 'kidney': 36, 'abnormality': 37, 'spleen': 38, 'diseases': 39, 'included': 40, 'system': 41, 'right': 42, 'organs': 43, 'healthy': 44, 'abnormalities': 45, 'shown': 46, 'brain': 47, 'color': 48, 'scanning': 49, 'look': 50, 'show': 51, 'kidneys': 52, 'weighting': 53, 'normal': 54, 'do': 55, 'mri': 56, 'mr': 57, 'bigger': 58, 'study': 59, 'exist': 60, 'main': 61, 'can': 62, 'be': 63, 'observed': 64, 'appear': 65, 'top': 66, 'taken': 67, 'transverse': 68, 'lower': 69, 'head': 70, 'black': 71, 'lungs': 72, 'scanned': 73, 'side': 74, 'coronal': 75, 'chest': 76, 'an': 77, 'ct': 78, 'imaged': 79, 'shape': 80, 'lobe': 81, 'was': 82, 'pictured': 83, 'small': 84, 'bowel': 85, 'type': 86, 'weighted': 87, 'existing': 88, 'x': 89, 'ray': 90, 'upper': 91, 'primarily': 92, 'present': 93, 'gray': 94, 'tumor': 95, 'locate': 96, 'with': 97, 'via': 98, 'section': 99, 'visualized': 100, 'disease': 101, 'rightmost': 102, 'have': 103, 'brian': 104, 'cord': 105, 'patient': 106, 'spinal': 107, 'represent': 108, \"patient's\": 109, 'from': 110, 'aspect': 111, 'whole': 112, 't2': 113, 'kinds': 114, 'colon': 115, 'biggest': 116, 't1': 117, 'human': 118, 'pneumonia': 119, 'about': 120, 'mass': 121, 'pelvic': 122, 'cavity': 123, 'edema': 124, 'sagittal': 125, 'pairs': 126, 'neck': 127, 'bladder': 128, 'larynx': 129, 'rectum': 130, 'nodule': 131, 'white': 132, 'stomach': 133, 'enhancing': 134, 'cardiomegaly': 135, 'atelectasis': 136, 'abdomen': 137, 'femoral': 138, 'corner': 139, 'scan': 140, 'smaller': 141, 'effusion': 142, 'imaging': 143, 'mandible': 144, 'temporal': 145, 'trachea': 146, 'eyes': 147, 'stem': 148, 'hole': 149, 'appearing': 150, 'esophagus': 151, 'medical': 152, 'hemisphere': 153, 'existed': 154, 'kind': 155, 'generated': 156, 'humerus': 157, 'non': 158, 'cancer': 159, 'any': 160, 'veins': 161, 'pneumothorax': 162, 'infiltration': 163, 'parotid': 164, 'tooth': 165, 'hyperdense': 166, 'hypodense': 167, 'smallest': 168, 'duodenum': 169, 'ears': 170, 'place': 171, 'parotids': 172, 'lobes': 173, 'bottom': 174, 'hollow': 175, 'center': 176, 'unhealthy': 177, 'points': 178, 'at': 179, 'pulmonary': 180, 'pleural': 181, 'marks': 182, 'end': 183, 'relative': 184, 'other': 185, 'tissues': 186, 'heads': 187, 'leftmost': 188, 'density': 189, 'spine': 190, 'outline': 191, 'not': 192, 'ear': 193, 'mandibles': 194, 'teeth': 195, 'evidence': 196, 'dark': 197, 'tissue': 198}\n",
            "Loaded 400000 word vectors.\n",
            "cardiomegaly\n",
            "hyperdense\n",
            "hypodense\n",
            "parotids\n"
          ]
        }
      ]
    },
    {
      "cell_type": "code",
      "source": [
        "x_train = []\n",
        "y_train = []\n",
        "\n",
        "for item in train_data:\n",
        "\n",
        "    if item['q_lang'] == 'zh' or item['base_type'] == 'kvqa':\n",
        "        continue\n",
        "    \n",
        "    if \" or \" in item['question'] or \",\" in item['answer']:\n",
        "        continue\n",
        "    \n",
        "    x_train.append(item['question'])\n",
        "    \n",
        "    if item['answer_type'] == 'CLOSED':\n",
        "        y_train.append(0)\n",
        "    else:\n",
        "        y_train.append(1)\n",
        "\n",
        "x_test = []\n",
        "y_test = []\n",
        "\n",
        "for item in test_data:\n",
        "\n",
        "    if item['q_lang'] == 'zh' or item['base_type'] == 'kvqa':\n",
        "        continue\n",
        "    \n",
        "    if \" or \" in item['question'] or \",\" in item['answer']:\n",
        "        continue\n",
        "    \n",
        "    x_test.append(item['question'])\n",
        "    \n",
        "    if item['answer_type'] == 'CLOSED':\n",
        "        y_test.append(0)\n",
        "    else:\n",
        "        y_test.append(1)\n",
        "\n",
        "x_valid = []\n",
        "y_valid = []\n",
        "\n",
        "for item in valid_data:\n",
        "\n",
        "    if item['q_lang'] == 'zh' or item['base_type'] == 'kvqa':\n",
        "        continue\n",
        "    \n",
        "    if \" or \" in item['question'] or \",\" in item['answer']:\n",
        "        continue\n",
        "    \n",
        "    x_valid.append(item['question'])\n",
        "    \n",
        "    if item['answer_type'] == 'CLOSED':\n",
        "        y_valid.append(0)\n",
        "    else:\n",
        "        y_valid.append(1)"
      ],
      "metadata": {
        "id": "j6zWy5DXtwAE"
      },
      "execution_count": null,
      "outputs": []
    },
    {
      "cell_type": "code",
      "source": [
        "from keras.layers import Bidirectional, LSTM, Dropout\n",
        "\n",
        "model_ques = Sequential([\n",
        "    Embedding(vocab_size, 100, weights=[embedding_matrix], input_length=16, trainable=False),\n",
        "    Bidirectional(LSTM(units=50, return_sequences=True)),\n",
        "    Dropout(0.2),\n",
        "    Flatten(),\n",
        "    Dense(units=1, activation='sigmoid')\n",
        "])\n",
        "\n",
        "model_ques.compile(optimizer='adam', loss='binary_crossentropy', metrics=['accuracy'])"
      ],
      "metadata": {
        "id": "ABOXiPN6CZsJ"
      },
      "execution_count": null,
      "outputs": []
    },
    {
      "cell_type": "code",
      "source": [
        "x_train = obtain_padded_questions(x_train, maxlen, t)\n",
        "y_train = np.array(y_train)\n",
        "\n",
        "x_test = obtain_padded_questions(x_test, maxlen, t)\n",
        "y_test = np.array(y_test)\n",
        "\n",
        "x_valid = obtain_padded_questions(x_valid, maxlen, t)\n",
        "y_valid = np.array(y_valid)\n",
        "\n",
        "model_ques.fit(x_train, y_train, epochs=10, validation_data=(x_valid, y_valid))"
      ],
      "metadata": {
        "colab": {
          "base_uri": "https://localhost:8080/"
        },
        "id": "G-UvZxsLChsX",
        "outputId": "d3101cda-72fa-4cb0-fd5a-37f07d6bf25e"
      },
      "execution_count": null,
      "outputs": [
        {
          "output_type": "stream",
          "name": "stdout",
          "text": [
            "Epoch 1/10\n",
            "124/124 [==============================] - 8s 26ms/step - loss: 0.1406 - accuracy: 0.9344 - val_loss: 3.4173e-04 - val_accuracy: 1.0000\n",
            "Epoch 2/10\n",
            "124/124 [==============================] - 2s 18ms/step - loss: 0.0132 - accuracy: 0.9962 - val_loss: 4.7764e-04 - val_accuracy: 1.0000\n",
            "Epoch 3/10\n",
            "124/124 [==============================] - 2s 18ms/step - loss: 0.0024 - accuracy: 0.9997 - val_loss: 2.1184e-04 - val_accuracy: 1.0000\n",
            "Epoch 4/10\n",
            "124/124 [==============================] - 2s 17ms/step - loss: 0.0025 - accuracy: 0.9997 - val_loss: 2.3384e-04 - val_accuracy: 1.0000\n",
            "Epoch 5/10\n",
            "124/124 [==============================] - 2s 18ms/step - loss: 0.0024 - accuracy: 0.9997 - val_loss: 2.6366e-04 - val_accuracy: 1.0000\n",
            "Epoch 6/10\n",
            "124/124 [==============================] - 2s 18ms/step - loss: 0.0023 - accuracy: 0.9997 - val_loss: 2.7244e-04 - val_accuracy: 1.0000\n",
            "Epoch 7/10\n",
            "124/124 [==============================] - 2s 18ms/step - loss: 0.0022 - accuracy: 0.9997 - val_loss: 2.1188e-04 - val_accuracy: 1.0000\n",
            "Epoch 8/10\n",
            "124/124 [==============================] - 2s 18ms/step - loss: 0.0021 - accuracy: 0.9997 - val_loss: 1.4747e-04 - val_accuracy: 1.0000\n",
            "Epoch 9/10\n",
            "124/124 [==============================] - 3s 20ms/step - loss: 0.0021 - accuracy: 0.9997 - val_loss: 2.4651e-04 - val_accuracy: 1.0000\n",
            "Epoch 10/10\n",
            "124/124 [==============================] - 3s 22ms/step - loss: 0.0022 - accuracy: 0.9997 - val_loss: 1.8285e-04 - val_accuracy: 1.0000\n"
          ]
        },
        {
          "output_type": "execute_result",
          "data": {
            "text/plain": [
              "<keras.callbacks.History at 0x7f2b7ef5cc50>"
            ]
          },
          "metadata": {},
          "execution_count": 11
        }
      ]
    },
    {
      "cell_type": "code",
      "source": [
        "model_ques.evaluate(x_test, y_test)"
      ],
      "metadata": {
        "colab": {
          "base_uri": "https://localhost:8080/"
        },
        "id": "JFkKCIYBDJL1",
        "outputId": "2cd15bc4-fb5c-4fe4-b604-11d78f64d26c"
      },
      "execution_count": null,
      "outputs": [
        {
          "output_type": "stream",
          "name": "stdout",
          "text": [
            "26/26 [==============================] - 0s 6ms/step - loss: 1.7992e-04 - accuracy: 1.0000\n"
          ]
        },
        {
          "output_type": "execute_result",
          "data": {
            "text/plain": [
              "[0.00017991552886087447, 1.0]"
            ]
          },
          "metadata": {},
          "execution_count": 12
        }
      ]
    },
    {
      "cell_type": "code",
      "source": [
        "c = [\"What is the modality that this image is taken in?\", \"What is the main organ is this image?\", \"Is this a CT?\", \"Is this an MRI?\", \"Does this image contain lung?\"]\n",
        "d = [1, 1, 0, 0, 0]\n",
        "\n",
        "c2 = obtain_padded_questions(c, maxlen, t)\n",
        "for i in range(len(c2)):\n",
        "    print(c[i])\n",
        "    in_c = np.expand_dims(c2[i], axis=0)\n",
        "    pred_model_ques = model_ques.predict(in_c)\n",
        "    if(pred_model_ques > 0.5):\n",
        "        print(\"Open\")\n",
        "    else:\n",
        "        print(\"Closed\")\n",
        "    print()"
      ],
      "metadata": {
        "colab": {
          "base_uri": "https://localhost:8080/"
        },
        "id": "L8F0Xk5R6vSC",
        "outputId": "7c7cd087-ca97-417b-b61e-7e4cf01ac4de"
      },
      "execution_count": null,
      "outputs": [
        {
          "output_type": "stream",
          "name": "stdout",
          "text": [
            "What is the modality that this image is taken in?\n",
            "Open\n",
            "\n",
            "What is the main organ is this image?\n",
            "Open\n",
            "\n",
            "Is this a CT?\n",
            "Closed\n",
            "\n",
            "Is this an MRI?\n",
            "Closed\n",
            "\n",
            "Does this image contain lung?\n",
            "Closed\n",
            "\n"
          ]
        }
      ]
    },
    {
      "cell_type": "code",
      "source": [
        "closed_answers = {\"No\":0, \"Yes\":1}\n",
        "open_answers = {}\n",
        "\n",
        "i=0\n",
        "for item in train_data + test_data + valid_data:\n",
        "    \n",
        "    if item['q_lang'] == 'zh' or item['base_type'] == 'kvqa':\n",
        "        continue\n",
        "    \n",
        "    if \" or \" in item['question'] or \",\" in item['answer']:\n",
        "        continue\n",
        "\n",
        "    answer = item['answer']\n",
        "    if item['answer'] == \"Noudle\":\n",
        "        answer = \"Nodule\"\n",
        "    if item['answer'] == \"Brian\":\n",
        "        answer = \"Brain\"\n",
        "    if item['answer'] == \"Transverse  Plane\":\n",
        "        answer = \"Transverse Plane\"\n",
        "    \n",
        "    if answer not in (\"Yes\", \"No\"):\n",
        "        if answer not in open_answers:\n",
        "            open_answers[answer] = i\n",
        "            i+=1"
      ],
      "metadata": {
        "id": "UmV1yWxnEOXj"
      },
      "execution_count": null,
      "outputs": []
    },
    {
      "cell_type": "code",
      "source": [
        "import json\n",
        "\n",
        "f = open(\"Slake1.0/test.json\", \"r\")\n",
        "a = json.load(f)\n",
        "\n",
        "b = []\n",
        "for item in a:\n",
        "    if item['q_lang'] == 'zh' or item['base_type'] == 'kvqa':\n",
        "        continue\n",
        "    if \" or \" in item['question'] or \",\" in item['answer']:\n",
        "        continue\n",
        "\n",
        "    b.append(item)\n",
        "\n",
        "len(b)"
      ],
      "metadata": {
        "colab": {
          "base_uri": "https://localhost:8080/"
        },
        "id": "TU0vFk423fIU",
        "outputId": "29f029b8-ec59-470b-f019-9bdb52f75415"
      },
      "execution_count": null,
      "outputs": [
        {
          "output_type": "execute_result",
          "data": {
            "text/plain": [
              "831"
            ]
          },
          "metadata": {},
          "execution_count": 73
        }
      ]
    },
    {
      "cell_type": "code",
      "source": [
        "x_train_open = []\n",
        "x_train_closed = []\n",
        "y_train_open = []\n",
        "y_train_closed = []\n",
        "\n",
        "x_train_open_images = []\n",
        "x_train_closed_images = []\n",
        "\n",
        "for item in train_data:\n",
        "\n",
        "    if item['q_lang'] == 'zh' or item['base_type'] == 'kvqa':\n",
        "        continue\n",
        "    \n",
        "    if \" or \" in item['question'] or \",\" in item['answer']:\n",
        "        continue\n",
        "    \n",
        "    if item['answer_type'] == 'CLOSED':\n",
        "        x_train_closed.append(item['question'])\n",
        "        x_train_closed_images.append(item['img_id'])\n",
        "        y_train_closed.append(closed_answers[item['answer']])\n",
        "    \n",
        "    else:\n",
        "\n",
        "        answer = item['answer']\n",
        "        if item['answer'] == \"Noudle\":\n",
        "            answer = \"Nodule\"\n",
        "        if item['answer'] == \"Brian\":\n",
        "            answer = \"Brain\"\n",
        "        if item['answer'] == \"Transverse  Plane\":\n",
        "            answer = \"Transverse Plane\"\n",
        "\n",
        "        x_train_open.append(item['question'])\n",
        "        x_train_open_images.append(item['img_id'])\n",
        "        y_train_open.append(open_answers[answer])\n",
        "\n",
        "x_valid_open = []\n",
        "x_valid_closed = []\n",
        "y_valid_open = []\n",
        "y_valid_closed = []\n",
        "\n",
        "x_valid_open_images = []\n",
        "x_valid_closed_images = []\n",
        "\n",
        "for item in valid_data:\n",
        "\n",
        "    if item['q_lang'] == 'zh' or item['base_type'] == 'kvqa':\n",
        "        continue\n",
        "    \n",
        "    if \" or \" in item['question'] or \",\" in item['answer']:\n",
        "        continue\n",
        "    \n",
        "    if item['answer_type'] == 'CLOSED':\n",
        "        x_valid_closed.append(item['question'])\n",
        "        x_valid_closed_images.append(item['img_id'])\n",
        "        y_valid_closed.append(closed_answers[item['answer']])\n",
        "    \n",
        "    else:\n",
        "\n",
        "        answer = item['answer']\n",
        "        if item['answer'] == \"Noudle\":\n",
        "            answer = \"Nodule\"\n",
        "        if item['answer'] == \"Brian\":\n",
        "            answer = \"Brain\"\n",
        "        if item['answer'] == \"Transverse  Plane\":\n",
        "            answer = \"Transverse Plane\"\n",
        "\n",
        "        x_valid_open.append(item['question'])\n",
        "        x_valid_open_images.append(item['img_id'])\n",
        "        y_valid_open.append(open_answers[answer])\n",
        "\n",
        "x_test_open = []\n",
        "x_test_closed = []\n",
        "y_test_open = []\n",
        "y_test_closed = []\n",
        "\n",
        "x_test_open_images = []\n",
        "x_test_closed_images = []\n",
        "\n",
        "for item in test_data:\n",
        "\n",
        "    if item['q_lang'] == 'zh' or item['base_type'] == 'kvqa':\n",
        "        continue\n",
        "    \n",
        "    if \" or \" in item['question'] or \",\" in item['answer']:\n",
        "        continue\n",
        "    \n",
        "    if item['answer_type'] == 'CLOSED':\n",
        "        x_test_closed.append(item['question'])\n",
        "        x_test_closed_images.append(item['img_id'])\n",
        "        y_test_closed.append(closed_answers[item['answer']])\n",
        "    \n",
        "    else:\n",
        "\n",
        "        answer = item['answer']\n",
        "        if item['answer'] == \"Noudle\":\n",
        "            answer = \"Nodule\"\n",
        "        if item['answer'] == \"Brian\":\n",
        "            answer = \"Brain\"\n",
        "        if item['answer'] == \"Transverse  Plane\":\n",
        "            answer = \"Transverse Plane\"\n",
        "\n",
        "        x_test_open.append(item['question'])\n",
        "        x_test_open_images.append(item['img_id'])\n",
        "        y_test_open.append(open_answers[answer])"
      ],
      "metadata": {
        "id": "KOloyTI-EzxE"
      },
      "execution_count": null,
      "outputs": []
    },
    {
      "cell_type": "code",
      "source": [
        "x_train_open = obtain_padded_questions(x_train_open, maxlen, t)\n",
        "x_train_closed = obtain_padded_questions(x_train_closed, maxlen, t)\n",
        "\n",
        "x_train_open = Embedding(vocab_size, 100, weights=[embedding_matrix], input_length=16, trainable=False)(x_train_open)\n",
        "x_train_closed = Embedding(vocab_size, 100, weights=[embedding_matrix], input_length=16, trainable=False)(x_train_closed)\n",
        "\n",
        "x_train_open = Flatten()(x_train_open)\n",
        "x_train_closed = Flatten()(x_train_closed)\n",
        "\n",
        "x_valid_open = obtain_padded_questions(x_valid_open, maxlen, t)\n",
        "x_valid_closed = obtain_padded_questions(x_valid_closed, maxlen, t)\n",
        "\n",
        "x_valid_open = Embedding(vocab_size, 100, weights=[embedding_matrix], input_length=16, trainable=False)(x_valid_open)\n",
        "x_valid_closed = Embedding(vocab_size, 100, weights=[embedding_matrix], input_length=16, trainable=False)(x_valid_closed)\n",
        "\n",
        "x_valid_open = Flatten()(x_valid_open)\n",
        "x_valid_closed = Flatten()(x_valid_closed)\n",
        "\n",
        "x_test_open = obtain_padded_questions(x_test_open, maxlen, t)\n",
        "x_test_closed = obtain_padded_questions(x_test_closed, maxlen, t)\n",
        "\n",
        "x_test_open = Embedding(vocab_size, 100, weights=[embedding_matrix], input_length=16, trainable=False)(x_test_open)\n",
        "x_test_closed = Embedding(vocab_size, 100, weights=[embedding_matrix], input_length=16, trainable=False)(x_test_closed)\n",
        "\n",
        "x_test_open = Flatten()(x_test_open)\n",
        "x_test_closed = Flatten()(x_test_closed)"
      ],
      "metadata": {
        "id": "X_uuY3qLE06d"
      },
      "execution_count": null,
      "outputs": []
    },
    {
      "cell_type": "code",
      "source": [
        "x_train_open = x_train_open.numpy()\n",
        "x_train_closed = x_train_closed.numpy()\n",
        "\n",
        "x_valid_open = x_valid_open.numpy()\n",
        "x_valid_closed = x_valid_closed.numpy()\n",
        "\n",
        "x_test_open = x_test_open.numpy()\n",
        "x_test_closed = x_test_closed.numpy()"
      ],
      "metadata": {
        "id": "hTBEsZiNGc9s"
      },
      "execution_count": null,
      "outputs": []
    },
    {
      "cell_type": "code",
      "source": [
        "from tensorflow.keras.utils import to_categorical\n",
        "\n",
        "y_train_open = to_categorical(y_train_open, len(open_answers))\n",
        "y_train_closed = np.array(y_train_closed)\n",
        "\n",
        "y_valid_open = to_categorical(y_valid_open, len(open_answers))\n",
        "y_valid_closed = np.array(y_valid_closed)\n",
        "\n",
        "y_test_open = to_categorical(y_test_open, len(open_answers))\n",
        "y_test_closed = np.array(y_test_closed)"
      ],
      "metadata": {
        "id": "lCQ4b7O9IQYC"
      },
      "execution_count": null,
      "outputs": []
    },
    {
      "cell_type": "code",
      "source": [
        "len(x_test_open_images)"
      ],
      "metadata": {
        "colab": {
          "base_uri": "https://localhost:8080/"
        },
        "id": "QcUJh0QI-CGx",
        "outputId": "bf316132-09c3-4646-8d7b-27dee95c364a"
      },
      "execution_count": null,
      "outputs": [
        {
          "output_type": "execute_result",
          "data": {
            "text/plain": [
              "515"
            ]
          },
          "metadata": {},
          "execution_count": 82
        }
      ]
    },
    {
      "cell_type": "code",
      "source": [
        "open_fused_train = []\n",
        "closed_fused_train = []\n",
        "\n",
        "for i in range(len(x_train_open_images)):\n",
        "    img_vector = new_vgg[x_train_open_images[i]]\n",
        "\n",
        "    ques_vector = x_train_open[i]\n",
        "    \n",
        "    open_fused_train.append(np.concatenate((img_vector, ques_vector)))\n",
        "\n",
        "for i in range(len(x_train_closed_images)):\n",
        "    img_vector = new_vgg[x_train_closed_images[i]]\n",
        "\n",
        "    ques_vector = x_train_closed[i]\n",
        "    \n",
        "    closed_fused_train.append(np.concatenate((img_vector, ques_vector)))\n",
        "\n",
        "open_fused_valid = []\n",
        "closed_fused_valid = []\n",
        "\n",
        "for i in range(len(x_valid_open_images)):\n",
        "    img_vector = new_vgg[x_valid_open_images[i]]\n",
        "\n",
        "    ques_vector = x_valid_open[i]\n",
        "    \n",
        "    open_fused_valid.append(np.concatenate((img_vector, ques_vector)))\n",
        "\n",
        "for i in range(len(x_valid_closed_images)):\n",
        "    img_vector = new_vgg[x_valid_closed_images[i]]\n",
        "\n",
        "    ques_vector = x_valid_closed[i]\n",
        "    \n",
        "    closed_fused_valid.append(np.concatenate((img_vector, ques_vector)))\n",
        "\n",
        "open_fused_test = []\n",
        "closed_fused_test = []\n",
        "\n",
        "for i in range(len(x_test_open_images)):\n",
        "    img_vector = new_vgg[x_test_open_images[i]]\n",
        "\n",
        "    ques_vector = x_test_open[i]\n",
        "    \n",
        "    open_fused_test.append(np.concatenate((img_vector, ques_vector)))\n",
        "\n",
        "for i in range(len(x_test_closed_images)):\n",
        "    img_vector = new_vgg[x_test_closed_images[i]]\n",
        "\n",
        "    ques_vector = x_test_closed[i]\n",
        "    \n",
        "    closed_fused_test.append(np.concatenate((img_vector, ques_vector)))"
      ],
      "metadata": {
        "id": "5gIcAihdGhbJ"
      },
      "execution_count": null,
      "outputs": []
    },
    {
      "cell_type": "code",
      "source": [
        "open_fused_train = np.array(open_fused_train)\n",
        "closed_fused_train = np.array(closed_fused_train)\n",
        "\n",
        "open_fused_valid = np.array(open_fused_valid)\n",
        "closed_fused_valid =np.array(closed_fused_valid)\n",
        "\n",
        "open_fused_test = np.array(open_fused_test)\n",
        "closed_fused_test = np.array(closed_fused_test)"
      ],
      "metadata": {
        "id": "o6Ieu9zMGq2h"
      },
      "execution_count": null,
      "outputs": []
    },
    {
      "cell_type": "code",
      "source": [
        "len(open_answers)"
      ],
      "metadata": {
        "colab": {
          "base_uri": "https://localhost:8080/"
        },
        "id": "dEYhFWr61dVC",
        "outputId": "783f113e-addc-46d8-cdb5-7016b9a25fc7"
      },
      "execution_count": null,
      "outputs": [
        {
          "output_type": "execute_result",
          "data": {
            "text/plain": [
              "124"
            ]
          },
          "metadata": {},
          "execution_count": 63
        }
      ]
    },
    {
      "cell_type": "code",
      "source": [
        "open_classifier = Sequential([\n",
        "        Input(shape=(26688,)),\n",
        "        Dense(units=len(open_answers), activation='softmax')\n",
        "])\n",
        "\n",
        "open_classifier.compile(optimizer='adam', loss='categorical_crossentropy', metrics=['accuracy'])"
      ],
      "metadata": {
        "id": "bsnDlhfvHgaC"
      },
      "execution_count": null,
      "outputs": []
    },
    {
      "cell_type": "code",
      "source": [
        "open_classifier.fit(open_fused_train, y_train_open, epochs=100, validation_data=(open_fused_valid, y_valid_open))"
      ],
      "metadata": {
        "id": "N88JK5iYHotn"
      },
      "execution_count": null,
      "outputs": []
    },
    {
      "cell_type": "code",
      "source": [
        "len(open_fused_test)"
      ],
      "metadata": {
        "colab": {
          "base_uri": "https://localhost:8080/"
        },
        "id": "IoWRZEMc9mbp",
        "outputId": "b5efe890-509c-4d9c-c14b-e8132b7edad9"
      },
      "execution_count": null,
      "outputs": [
        {
          "output_type": "execute_result",
          "data": {
            "text/plain": [
              "515"
            ]
          },
          "metadata": {},
          "execution_count": 81
        }
      ]
    },
    {
      "cell_type": "code",
      "source": [
        "open_classifier.evaluate(open_fused_test, y_test_open)"
      ],
      "metadata": {
        "colab": {
          "base_uri": "https://localhost:8080/"
        },
        "id": "ApRtdRDnW7Ou",
        "outputId": "ef54a122-5adb-45a4-97c8-941117dba491"
      },
      "execution_count": null,
      "outputs": [
        {
          "output_type": "stream",
          "name": "stdout",
          "text": [
            "17/17 [==============================] - 0s 10ms/step - loss: 71.4257 - accuracy: 0.6291\n"
          ]
        },
        {
          "output_type": "execute_result",
          "data": {
            "text/plain": [
              "[71.42571258544922, 0.6291261911392212]"
            ]
          },
          "metadata": {},
          "execution_count": 24
        }
      ]
    },
    {
      "cell_type": "code",
      "source": [
        "len(closed_fused_test)"
      ],
      "metadata": {
        "colab": {
          "base_uri": "https://localhost:8080/"
        },
        "id": "iRs4Q_j9-X1V",
        "outputId": "7037cc5f-1899-4d19-afcd-cdcc1af30bd7"
      },
      "execution_count": null,
      "outputs": [
        {
          "output_type": "execute_result",
          "data": {
            "text/plain": [
              "316"
            ]
          },
          "metadata": {},
          "execution_count": 84
        }
      ]
    },
    {
      "cell_type": "code",
      "source": [
        "closed_classifier = Sequential([\n",
        "        Input(shape=(26688,)),\n",
        "        Dense(units=1, activation='sigmoid')\n",
        "])\n",
        "\n",
        "closed_classifier.compile(optimizer='adam', loss='binary_crossentropy', metrics=['accuracy'])\n",
        "\n",
        "closed_classifier.fit(closed_fused_train, y_train_closed, epochs=100, validation_data=(closed_fused_valid, y_valid_closed))"
      ],
      "metadata": {
        "colab": {
          "base_uri": "https://localhost:8080/"
        },
        "id": "xYu3P0KsIMBA",
        "outputId": "37eec98d-d52d-467b-db72-f57e3b4b9460"
      },
      "execution_count": null,
      "outputs": [
        {
          "output_type": "stream",
          "name": "stdout",
          "text": [
            "Epoch 1/100\n",
            "48/48 [==============================] - 1s 10ms/step - loss: 9.2422 - accuracy: 0.5000 - val_loss: 6.7159 - val_accuracy: 0.5431\n",
            "Epoch 2/100\n",
            "48/48 [==============================] - 0s 6ms/step - loss: 6.6276 - accuracy: 0.5609 - val_loss: 4.8786 - val_accuracy: 0.5463\n",
            "Epoch 3/100\n",
            "48/48 [==============================] - 0s 6ms/step - loss: 5.6824 - accuracy: 0.5682 - val_loss: 6.5005 - val_accuracy: 0.5399\n",
            "Epoch 4/100\n",
            "48/48 [==============================] - 0s 5ms/step - loss: 5.8501 - accuracy: 0.5808 - val_loss: 5.6860 - val_accuracy: 0.5815\n",
            "Epoch 5/100\n",
            "48/48 [==============================] - 0s 5ms/step - loss: 6.8463 - accuracy: 0.5808 - val_loss: 5.0971 - val_accuracy: 0.5304\n",
            "Epoch 6/100\n",
            "48/48 [==============================] - 0s 6ms/step - loss: 6.7064 - accuracy: 0.5828 - val_loss: 4.7246 - val_accuracy: 0.5559\n",
            "Epoch 7/100\n",
            "48/48 [==============================] - 0s 6ms/step - loss: 6.2670 - accuracy: 0.5901 - val_loss: 5.9503 - val_accuracy: 0.5591\n",
            "Epoch 8/100\n",
            "48/48 [==============================] - 0s 5ms/step - loss: 5.7052 - accuracy: 0.5940 - val_loss: 4.2575 - val_accuracy: 0.5783\n",
            "Epoch 9/100\n",
            "48/48 [==============================] - 0s 6ms/step - loss: 6.0237 - accuracy: 0.6066 - val_loss: 10.3908 - val_accuracy: 0.5591\n",
            "Epoch 10/100\n",
            "48/48 [==============================] - 0s 6ms/step - loss: 6.5940 - accuracy: 0.6073 - val_loss: 5.2466 - val_accuracy: 0.5719\n",
            "Epoch 11/100\n",
            "48/48 [==============================] - 0s 5ms/step - loss: 6.4622 - accuracy: 0.6033 - val_loss: 4.8166 - val_accuracy: 0.5495\n",
            "Epoch 12/100\n",
            "48/48 [==============================] - 0s 6ms/step - loss: 5.9932 - accuracy: 0.5934 - val_loss: 4.7754 - val_accuracy: 0.5495\n",
            "Epoch 13/100\n",
            "48/48 [==============================] - 0s 5ms/step - loss: 5.5483 - accuracy: 0.6060 - val_loss: 9.0291 - val_accuracy: 0.5272\n",
            "Epoch 14/100\n",
            "48/48 [==============================] - 0s 6ms/step - loss: 6.5195 - accuracy: 0.6013 - val_loss: 6.3326 - val_accuracy: 0.5559\n",
            "Epoch 15/100\n",
            "48/48 [==============================] - 0s 5ms/step - loss: 6.2728 - accuracy: 0.6000 - val_loss: 6.7146 - val_accuracy: 0.5335\n",
            "Epoch 16/100\n",
            "48/48 [==============================] - 0s 5ms/step - loss: 7.0390 - accuracy: 0.6020 - val_loss: 4.9244 - val_accuracy: 0.5655\n",
            "Epoch 17/100\n",
            "48/48 [==============================] - 0s 5ms/step - loss: 6.6574 - accuracy: 0.6152 - val_loss: 8.0464 - val_accuracy: 0.5016\n",
            "Epoch 18/100\n",
            "48/48 [==============================] - 0s 7ms/step - loss: 7.7275 - accuracy: 0.6139 - val_loss: 5.8385 - val_accuracy: 0.6102\n",
            "Epoch 19/100\n",
            "48/48 [==============================] - 0s 6ms/step - loss: 6.6595 - accuracy: 0.6238 - val_loss: 4.6916 - val_accuracy: 0.5623\n",
            "Epoch 20/100\n",
            "48/48 [==============================] - 0s 5ms/step - loss: 5.3525 - accuracy: 0.6351 - val_loss: 5.2477 - val_accuracy: 0.5942\n",
            "Epoch 21/100\n",
            "48/48 [==============================] - 0s 6ms/step - loss: 7.3754 - accuracy: 0.6053 - val_loss: 6.4338 - val_accuracy: 0.5847\n",
            "Epoch 22/100\n",
            "48/48 [==============================] - 0s 6ms/step - loss: 6.4646 - accuracy: 0.6179 - val_loss: 7.2331 - val_accuracy: 0.5591\n",
            "Epoch 23/100\n",
            "48/48 [==============================] - 0s 6ms/step - loss: 6.8823 - accuracy: 0.6377 - val_loss: 5.3712 - val_accuracy: 0.5911\n",
            "Epoch 24/100\n",
            "48/48 [==============================] - 0s 5ms/step - loss: 6.0938 - accuracy: 0.6172 - val_loss: 5.5188 - val_accuracy: 0.5719\n",
            "Epoch 25/100\n",
            "48/48 [==============================] - 0s 5ms/step - loss: 6.2507 - accuracy: 0.6238 - val_loss: 6.6177 - val_accuracy: 0.5463\n",
            "Epoch 26/100\n",
            "48/48 [==============================] - 0s 6ms/step - loss: 6.4900 - accuracy: 0.6219 - val_loss: 5.8927 - val_accuracy: 0.5815\n",
            "Epoch 27/100\n",
            "48/48 [==============================] - 0s 6ms/step - loss: 5.9075 - accuracy: 0.6079 - val_loss: 5.9762 - val_accuracy: 0.5559\n",
            "Epoch 28/100\n",
            "48/48 [==============================] - 0s 6ms/step - loss: 6.6400 - accuracy: 0.6146 - val_loss: 6.3534 - val_accuracy: 0.6070\n",
            "Epoch 29/100\n",
            "48/48 [==============================] - 0s 5ms/step - loss: 6.3357 - accuracy: 0.6212 - val_loss: 5.5306 - val_accuracy: 0.6038\n",
            "Epoch 30/100\n",
            "48/48 [==============================] - 0s 6ms/step - loss: 7.0260 - accuracy: 0.6219 - val_loss: 6.1299 - val_accuracy: 0.5974\n",
            "Epoch 31/100\n",
            "48/48 [==============================] - 0s 8ms/step - loss: 6.4297 - accuracy: 0.6199 - val_loss: 6.0473 - val_accuracy: 0.6262\n",
            "Epoch 32/100\n",
            "48/48 [==============================] - 0s 7ms/step - loss: 5.6276 - accuracy: 0.6146 - val_loss: 6.3080 - val_accuracy: 0.5815\n",
            "Epoch 33/100\n",
            "48/48 [==============================] - 0s 6ms/step - loss: 5.1217 - accuracy: 0.6377 - val_loss: 6.2594 - val_accuracy: 0.5879\n",
            "Epoch 34/100\n",
            "48/48 [==============================] - 0s 6ms/step - loss: 6.3794 - accuracy: 0.6219 - val_loss: 4.9060 - val_accuracy: 0.5911\n",
            "Epoch 35/100\n",
            "48/48 [==============================] - 0s 6ms/step - loss: 5.2685 - accuracy: 0.6238 - val_loss: 5.5406 - val_accuracy: 0.5751\n",
            "Epoch 36/100\n",
            "48/48 [==============================] - 0s 5ms/step - loss: 6.2780 - accuracy: 0.6437 - val_loss: 6.6348 - val_accuracy: 0.6134\n",
            "Epoch 37/100\n",
            "48/48 [==============================] - 0s 6ms/step - loss: 6.4661 - accuracy: 0.6417 - val_loss: 9.2570 - val_accuracy: 0.5463\n",
            "Epoch 38/100\n",
            "48/48 [==============================] - 1s 11ms/step - loss: 5.6096 - accuracy: 0.6311 - val_loss: 6.3894 - val_accuracy: 0.5591\n",
            "Epoch 39/100\n",
            "48/48 [==============================] - 0s 10ms/step - loss: 5.1888 - accuracy: 0.6325 - val_loss: 5.2549 - val_accuracy: 0.6070\n",
            "Epoch 40/100\n",
            "48/48 [==============================] - 0s 8ms/step - loss: 6.0614 - accuracy: 0.6311 - val_loss: 5.6127 - val_accuracy: 0.6230\n",
            "Epoch 41/100\n",
            "48/48 [==============================] - 0s 6ms/step - loss: 6.3554 - accuracy: 0.6384 - val_loss: 7.4488 - val_accuracy: 0.6390\n",
            "Epoch 42/100\n",
            "48/48 [==============================] - 0s 6ms/step - loss: 7.1522 - accuracy: 0.6325 - val_loss: 7.2772 - val_accuracy: 0.6102\n",
            "Epoch 43/100\n",
            "48/48 [==============================] - 0s 5ms/step - loss: 6.0511 - accuracy: 0.6377 - val_loss: 7.2062 - val_accuracy: 0.5783\n",
            "Epoch 44/100\n",
            "48/48 [==============================] - 0s 6ms/step - loss: 5.9816 - accuracy: 0.6205 - val_loss: 8.2402 - val_accuracy: 0.5559\n",
            "Epoch 45/100\n",
            "48/48 [==============================] - 0s 5ms/step - loss: 4.8322 - accuracy: 0.6589 - val_loss: 6.0443 - val_accuracy: 0.5623\n",
            "Epoch 46/100\n",
            "48/48 [==============================] - 0s 5ms/step - loss: 5.4311 - accuracy: 0.6351 - val_loss: 5.7005 - val_accuracy: 0.6166\n",
            "Epoch 47/100\n",
            "48/48 [==============================] - 0s 5ms/step - loss: 7.1799 - accuracy: 0.6185 - val_loss: 7.1601 - val_accuracy: 0.5623\n",
            "Epoch 48/100\n",
            "48/48 [==============================] - 0s 6ms/step - loss: 5.6361 - accuracy: 0.6430 - val_loss: 7.6723 - val_accuracy: 0.5911\n",
            "Epoch 49/100\n",
            "48/48 [==============================] - 0s 6ms/step - loss: 5.4463 - accuracy: 0.6430 - val_loss: 7.0362 - val_accuracy: 0.5399\n",
            "Epoch 50/100\n",
            "48/48 [==============================] - 0s 6ms/step - loss: 7.4103 - accuracy: 0.6159 - val_loss: 8.2893 - val_accuracy: 0.6006\n",
            "Epoch 51/100\n",
            "48/48 [==============================] - 0s 6ms/step - loss: 6.4420 - accuracy: 0.6397 - val_loss: 7.1703 - val_accuracy: 0.6070\n",
            "Epoch 52/100\n",
            "48/48 [==============================] - 0s 5ms/step - loss: 5.8196 - accuracy: 0.6404 - val_loss: 11.2524 - val_accuracy: 0.5272\n",
            "Epoch 53/100\n",
            "48/48 [==============================] - 0s 5ms/step - loss: 6.3177 - accuracy: 0.6377 - val_loss: 9.6102 - val_accuracy: 0.5495\n",
            "Epoch 54/100\n",
            "48/48 [==============================] - 0s 6ms/step - loss: 6.1772 - accuracy: 0.6377 - val_loss: 8.7198 - val_accuracy: 0.5367\n",
            "Epoch 55/100\n",
            "48/48 [==============================] - 0s 6ms/step - loss: 6.8944 - accuracy: 0.6232 - val_loss: 5.7285 - val_accuracy: 0.6070\n",
            "Epoch 56/100\n",
            "48/48 [==============================] - 0s 5ms/step - loss: 7.2590 - accuracy: 0.6430 - val_loss: 6.8604 - val_accuracy: 0.6070\n",
            "Epoch 57/100\n",
            "48/48 [==============================] - 0s 6ms/step - loss: 8.1803 - accuracy: 0.6272 - val_loss: 9.1881 - val_accuracy: 0.5974\n",
            "Epoch 58/100\n",
            "48/48 [==============================] - 0s 6ms/step - loss: 7.4566 - accuracy: 0.6099 - val_loss: 5.4904 - val_accuracy: 0.6102\n",
            "Epoch 59/100\n",
            "48/48 [==============================] - 0s 6ms/step - loss: 6.1996 - accuracy: 0.6351 - val_loss: 6.2585 - val_accuracy: 0.6134\n",
            "Epoch 60/100\n",
            "48/48 [==============================] - 0s 7ms/step - loss: 6.0758 - accuracy: 0.6589 - val_loss: 5.0997 - val_accuracy: 0.6038\n",
            "Epoch 61/100\n",
            "48/48 [==============================] - 0s 6ms/step - loss: 6.5556 - accuracy: 0.6391 - val_loss: 7.8940 - val_accuracy: 0.5751\n",
            "Epoch 62/100\n",
            "48/48 [==============================] - 0s 6ms/step - loss: 7.7347 - accuracy: 0.6483 - val_loss: 11.0101 - val_accuracy: 0.6006\n",
            "Epoch 63/100\n",
            "48/48 [==============================] - 0s 6ms/step - loss: 7.8524 - accuracy: 0.6159 - val_loss: 6.8894 - val_accuracy: 0.6294\n",
            "Epoch 64/100\n",
            "48/48 [==============================] - 0s 5ms/step - loss: 6.1273 - accuracy: 0.6325 - val_loss: 5.8236 - val_accuracy: 0.6070\n",
            "Epoch 65/100\n",
            "48/48 [==============================] - 0s 5ms/step - loss: 6.3620 - accuracy: 0.6411 - val_loss: 8.4223 - val_accuracy: 0.5815\n",
            "Epoch 66/100\n",
            "48/48 [==============================] - 0s 6ms/step - loss: 5.9386 - accuracy: 0.6583 - val_loss: 7.1767 - val_accuracy: 0.5751\n",
            "Epoch 67/100\n",
            "48/48 [==============================] - 0s 6ms/step - loss: 6.3659 - accuracy: 0.6199 - val_loss: 5.2198 - val_accuracy: 0.6294\n",
            "Epoch 68/100\n",
            "48/48 [==============================] - 0s 5ms/step - loss: 5.1271 - accuracy: 0.6430 - val_loss: 6.8085 - val_accuracy: 0.5815\n",
            "Epoch 69/100\n",
            "48/48 [==============================] - 0s 6ms/step - loss: 5.1467 - accuracy: 0.6649 - val_loss: 6.0914 - val_accuracy: 0.5815\n",
            "Epoch 70/100\n",
            "48/48 [==============================] - 0s 7ms/step - loss: 6.2481 - accuracy: 0.6543 - val_loss: 7.3864 - val_accuracy: 0.6102\n",
            "Epoch 71/100\n",
            "48/48 [==============================] - 0s 6ms/step - loss: 5.5802 - accuracy: 0.6457 - val_loss: 5.2071 - val_accuracy: 0.5942\n",
            "Epoch 72/100\n",
            "48/48 [==============================] - 0s 6ms/step - loss: 5.1216 - accuracy: 0.6695 - val_loss: 9.7446 - val_accuracy: 0.5591\n",
            "Epoch 73/100\n",
            "48/48 [==============================] - 0s 6ms/step - loss: 6.1445 - accuracy: 0.6497 - val_loss: 8.8330 - val_accuracy: 0.5911\n",
            "Epoch 74/100\n",
            "48/48 [==============================] - 0s 6ms/step - loss: 6.3472 - accuracy: 0.6364 - val_loss: 9.3524 - val_accuracy: 0.5687\n",
            "Epoch 75/100\n",
            "48/48 [==============================] - 0s 7ms/step - loss: 5.8486 - accuracy: 0.6437 - val_loss: 8.1820 - val_accuracy: 0.6038\n",
            "Epoch 76/100\n",
            "48/48 [==============================] - 0s 6ms/step - loss: 7.4438 - accuracy: 0.6464 - val_loss: 9.6748 - val_accuracy: 0.5623\n",
            "Epoch 77/100\n",
            "48/48 [==============================] - 0s 7ms/step - loss: 6.1837 - accuracy: 0.6656 - val_loss: 7.2081 - val_accuracy: 0.6038\n",
            "Epoch 78/100\n",
            "48/48 [==============================] - 0s 5ms/step - loss: 5.9365 - accuracy: 0.6364 - val_loss: 5.9699 - val_accuracy: 0.6070\n",
            "Epoch 79/100\n",
            "48/48 [==============================] - 0s 7ms/step - loss: 4.8596 - accuracy: 0.6609 - val_loss: 5.6058 - val_accuracy: 0.6070\n",
            "Epoch 80/100\n",
            "48/48 [==============================] - 0s 7ms/step - loss: 5.9705 - accuracy: 0.6523 - val_loss: 6.3791 - val_accuracy: 0.6102\n",
            "Epoch 81/100\n",
            "48/48 [==============================] - 0s 7ms/step - loss: 5.2434 - accuracy: 0.6636 - val_loss: 10.1104 - val_accuracy: 0.5527\n",
            "Epoch 82/100\n",
            "48/48 [==============================] - 0s 5ms/step - loss: 6.0455 - accuracy: 0.6543 - val_loss: 6.1040 - val_accuracy: 0.6070\n",
            "Epoch 83/100\n",
            "48/48 [==============================] - 0s 7ms/step - loss: 4.9450 - accuracy: 0.6556 - val_loss: 7.5666 - val_accuracy: 0.5942\n",
            "Epoch 84/100\n",
            "48/48 [==============================] - 0s 6ms/step - loss: 6.0781 - accuracy: 0.6444 - val_loss: 5.6621 - val_accuracy: 0.5783\n",
            "Epoch 85/100\n",
            "48/48 [==============================] - 0s 7ms/step - loss: 5.7157 - accuracy: 0.6576 - val_loss: 5.8473 - val_accuracy: 0.5751\n",
            "Epoch 86/100\n",
            "48/48 [==============================] - 0s 6ms/step - loss: 6.2554 - accuracy: 0.6437 - val_loss: 6.3475 - val_accuracy: 0.5942\n",
            "Epoch 87/100\n",
            "48/48 [==============================] - 0s 6ms/step - loss: 5.2562 - accuracy: 0.6709 - val_loss: 7.4535 - val_accuracy: 0.6134\n",
            "Epoch 88/100\n",
            "48/48 [==============================] - 0s 7ms/step - loss: 6.3365 - accuracy: 0.6371 - val_loss: 6.5774 - val_accuracy: 0.6070\n",
            "Epoch 89/100\n",
            "48/48 [==============================] - 0s 6ms/step - loss: 5.3843 - accuracy: 0.6550 - val_loss: 6.2168 - val_accuracy: 0.6358\n",
            "Epoch 90/100\n",
            "48/48 [==============================] - 0s 7ms/step - loss: 6.7901 - accuracy: 0.6497 - val_loss: 5.3237 - val_accuracy: 0.5911\n",
            "Epoch 91/100\n",
            "48/48 [==============================] - 0s 6ms/step - loss: 5.2093 - accuracy: 0.6570 - val_loss: 4.7693 - val_accuracy: 0.6166\n",
            "Epoch 92/100\n",
            "48/48 [==============================] - 0s 7ms/step - loss: 5.6180 - accuracy: 0.6662 - val_loss: 10.3990 - val_accuracy: 0.5208\n",
            "Epoch 93/100\n",
            "48/48 [==============================] - 0s 7ms/step - loss: 8.0028 - accuracy: 0.6212 - val_loss: 8.2110 - val_accuracy: 0.5815\n",
            "Epoch 94/100\n",
            "48/48 [==============================] - 0s 6ms/step - loss: 5.4185 - accuracy: 0.6656 - val_loss: 5.7333 - val_accuracy: 0.5974\n",
            "Epoch 95/100\n",
            "48/48 [==============================] - 0s 6ms/step - loss: 6.2009 - accuracy: 0.6656 - val_loss: 10.8274 - val_accuracy: 0.5304\n",
            "Epoch 96/100\n",
            "48/48 [==============================] - 0s 6ms/step - loss: 8.5167 - accuracy: 0.6358 - val_loss: 8.0140 - val_accuracy: 0.5687\n",
            "Epoch 97/100\n",
            "48/48 [==============================] - 0s 6ms/step - loss: 5.8808 - accuracy: 0.6510 - val_loss: 6.1408 - val_accuracy: 0.6326\n",
            "Epoch 98/100\n",
            "48/48 [==============================] - 0s 6ms/step - loss: 4.9811 - accuracy: 0.6815 - val_loss: 10.1394 - val_accuracy: 0.5623\n",
            "Epoch 99/100\n",
            "48/48 [==============================] - 0s 6ms/step - loss: 6.1729 - accuracy: 0.6788 - val_loss: 6.1959 - val_accuracy: 0.6006\n",
            "Epoch 100/100\n",
            "48/48 [==============================] - 0s 7ms/step - loss: 6.2856 - accuracy: 0.6656 - val_loss: 6.6671 - val_accuracy: 0.6262\n"
          ]
        },
        {
          "output_type": "execute_result",
          "data": {
            "text/plain": [
              "<keras.callbacks.History at 0x7f2b6d04a450>"
            ]
          },
          "metadata": {},
          "execution_count": 123
        }
      ]
    },
    {
      "cell_type": "code",
      "source": [
        "closed_classifier.evaluate(closed_fused_test, y_test_closed)"
      ],
      "metadata": {
        "colab": {
          "base_uri": "https://localhost:8080/"
        },
        "id": "gPZkN8DRNHwL",
        "outputId": "9aba5417-69c4-44f8-c587-bce9778bd567"
      },
      "execution_count": null,
      "outputs": [
        {
          "output_type": "stream",
          "name": "stdout",
          "text": [
            "10/10 [==============================] - 0s 4ms/step - loss: 7.0446 - accuracy: 0.6108\n"
          ]
        },
        {
          "output_type": "execute_result",
          "data": {
            "text/plain": [
              "[7.0445756912231445, 0.6107594966888428]"
            ]
          },
          "metadata": {},
          "execution_count": 124
        }
      ]
    },
    {
      "cell_type": "code",
      "source": [
        "from google.colab.patches import cv2_imshow\n",
        "import matplotlib.pyplot as plt\n",
        "\n",
        "question = [\"What diseases are in this image?\"]\n",
        "padded = obtain_padded_questions(question, maxlen, t)\n",
        "\n",
        "prediction = model_ques.predict(padded)\n",
        "\n",
        "img = image.load_img(f\"Slake1.0/imgs/xmlab144/source.jpg\", target_size=(224, 224))\n",
        "img = image.img_to_array(img)\n",
        "cv2_imshow(img)\n",
        "\n",
        "print(question[0])\n",
        "\n",
        "img = new_vgg[144]\n",
        "\n",
        "if prediction > 0.5:\n",
        "    padded = Embedding(vocab_size, 100, weights=[embedding_matrix], input_length=16, trainable=False)(padded)\n",
        "    padded = Flatten()(padded)\n",
        "\n",
        "    padded = np.squeeze(padded)\n",
        "\n",
        "    fused = np.concatenate((img, padded))\n",
        "\n",
        "    fused = np.reshape(fused, (1, 26688))\n",
        "\n",
        "    answers = np.argmax(open_classifier.predict(fused))\n",
        "\n",
        "    final_answer = \"\"\n",
        "\n",
        "    for answer in open_answers:\n",
        "        if open_answers[answer] == answers:\n",
        "            print(answer)\n",
        "            break\n",
        "\n",
        "else:\n",
        "    padded = Embedding(vocab_size, 100, weights=[embedding_matrix], input_length=16, trainable=False)(padded)\n",
        "    padded = Flatten()(padded)\n",
        "\n",
        "    padded = np.squeeze(padded)\n",
        "\n",
        "    fused = np.concatenate((img, padded))\n",
        "\n",
        "    fused = np.reshape(fused, (1, 26688))\n",
        "\n",
        "    answers = closed_classifier.predict(fused)\n",
        "\n",
        "    if answers > 0.5:\n",
        "        print(\"Yes\")\n",
        "    else:\n",
        "        print(\"No\")\n",
        "    print(\"\")"
      ],
      "metadata": {
        "colab": {
          "base_uri": "https://localhost:8080/",
          "height": 276
        },
        "id": "8oqQGnSBNXAH",
        "outputId": "115be54e-79f3-435b-8b80-fa90107ed469"
      },
      "execution_count": null,
      "outputs": [
        {
          "output_type": "display_data",
          "data": {
            "text/plain": [
              "<PIL.Image.Image image mode=RGB size=224x224 at 0x7F2B6CECBC10>"
            ],
            "image/png": "[encoded data removed]"
          },
          "metadata": {}
        },
        {
          "output_type": "stream",
          "name": "stdout",
          "text": [
            "What diseases are in this image?\n",
            "Lung\n"
          ]
        }
      ]
    },
    {
      "cell_type": "code",
      "source": [
        ""
      ],
      "metadata": {
        "id": "JRe0aoIvNvfk"
      },
      "execution_count": null,
      "outputs": []
    }
  ]
}